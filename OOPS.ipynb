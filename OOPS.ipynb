{
  "nbformat": 4,
  "nbformat_minor": 0,
  "metadata": {
    "colab": {
      "provenance": []
    },
    "kernelspec": {
      "name": "python3",
      "display_name": "Python 3"
    },
    "language_info": {
      "name": "python"
    }
  },
  "cells": [
    {
      "cell_type": "markdown",
      "source": [
        "## OOPS QUESTIONS."
      ],
      "metadata": {
        "id": "a3IIOFisSjCn"
      }
    },
    {
      "cell_type": "markdown",
      "source": [
        "1. What is Object-Oriented Programming (OOP)?\n",
        "\n",
        "    -> A programming paradigm based on the concept of \"objects\" which contain data and methods. It promotes modularity and reusability."
      ],
      "metadata": {
        "id": "SSSkX_rjSpwB"
      }
    },
    {
      "cell_type": "markdown",
      "source": [
        "2. What is a class in OOP?\n",
        "\n",
        "    -> A class is a blueprint for creating objects. It defines attributes and behaviors (methods)."
      ],
      "metadata": {
        "id": "6TqgEIJ8S1jo"
      }
    },
    {
      "cell_type": "markdown",
      "source": [
        "3. What is an object in OOP?\n",
        "\n",
        "    -> An instance of a class containing actual values and capable of using class methods.\n",
        "\n"
      ],
      "metadata": {
        "id": "O_0w1-a1S8oB"
      }
    },
    {
      "cell_type": "markdown",
      "source": [
        "4. What is the difference between abstraction and encapsulation?\n",
        "\n",
        "Abstraction: Hiding implementation details and showing only essential features.\n",
        "\n",
        "Encapsulation: Wrapping data and methods together and restricting access via access modifiers."
      ],
      "metadata": {
        "id": "AEW3f4Y-TKTo"
      }
    },
    {
      "cell_type": "markdown",
      "source": [
        "5. What are dunder methods in Python?\n",
        "\n",
        "    -> Special methods with double underscores (e.g., __init__, __str__) that allow customization of class behavior."
      ],
      "metadata": {
        "id": "2hImI-Q9TRtT"
      }
    },
    {
      "cell_type": "markdown",
      "source": [
        "6. Explain the concept of inheritance in OOP.\n",
        "\n",
        "    -> Inheritance allows a class (child) to acquire properties and behaviors from another class (parent)."
      ],
      "metadata": {
        "id": "M_M-8cmgTux3"
      }
    },
    {
      "cell_type": "markdown",
      "source": [
        "7. What is polymorphism in OOP?\n",
        "\n",
        "    -> The ability of different classes to be treated as instances of the same class through a common interface."
      ],
      "metadata": {
        "id": "lFz_ISCbT0iD"
      }
    },
    {
      "cell_type": "markdown",
      "source": [
        "8. How is encapsulation achieved in Python?\n",
        "\n",
        "    -> Using private (__var) and protected (_var) attributes and providing getters/setters to control access."
      ],
      "metadata": {
        "id": "gkHgPUVrT6lj"
      }
    },
    {
      "cell_type": "markdown",
      "source": [
        "9. What is a constructor in Python?\n",
        "\n",
        "    -> A special method __init__() used to initialize objects when they are created."
      ],
      "metadata": {
        "id": "vAQYvhWNUCCj"
      }
    },
    {
      "cell_type": "markdown",
      "source": [
        "10. What are class and static methods in Python?\n",
        "\n",
        "Class methods use @classmethod and take cls as the first argument.\n",
        "\n",
        "Static methods use @staticmethod and don't take self or cls."
      ],
      "metadata": {
        "id": "323xPicNUHOV"
      }
    },
    {
      "cell_type": "markdown",
      "source": [
        "11. What is method overloading in Python?\n",
        "\n",
        "    -> Not supported natively in Python. Simulated using default arguments or variable-length arguments."
      ],
      "metadata": {
        "id": "dgoZVo8SUKyO"
      }
    },
    {
      "cell_type": "markdown",
      "source": [
        "12. What is method overriding in OOP?\n",
        "\n",
        "    -> When a subclass redefines a method inherited from its superclass."
      ],
      "metadata": {
        "id": "1TJ88mI7UVna"
      }
    },
    {
      "cell_type": "markdown",
      "source": [
        "13. What is a property decorator in Python?\n",
        "\n",
        "    -> @property is used to define getter methods that can be accessed like attributes."
      ],
      "metadata": {
        "id": "fNghqmzlUeJA"
      }
    },
    {
      "cell_type": "markdown",
      "source": [
        "14. Why is polymorphism important in OOP?\n",
        "\n",
        "    -> It enhances flexibility and maintainability by allowing code to work with objects of different types."
      ],
      "metadata": {
        "id": "Ez4l3LIRUnzx"
      }
    },
    {
      "cell_type": "markdown",
      "source": [
        "15. What is an abstract class in Python?\n",
        "\n",
        "    -> A class with at least one abstract method (defined using abc module) that cannot be instantiated directly."
      ],
      "metadata": {
        "id": "hQT5YMgyUsy9"
      }
    },
    {
      "cell_type": "markdown",
      "source": [
        "16. What are the advantages of OOP?\n",
        "\n",
        "Modularity\n",
        "\n",
        "Code reusability\n",
        "\n",
        "Scalability\n",
        "\n",
        "Easier debugging and maintenance"
      ],
      "metadata": {
        "id": "qaXZwbJ4UxmP"
      }
    },
    {
      "cell_type": "markdown",
      "source": [
        "17. What is the difference between a class variable and an instance variable?\n",
        "\n",
        "Class variable: Shared among all instances of a class.\n",
        "\n",
        "Instance variable: Unique to each instance.\n",
        "\n"
      ],
      "metadata": {
        "id": "1ZbtYSpxU4BU"
      }
    },
    {
      "cell_type": "markdown",
      "source": [
        "18. What is multiple inheritance in Python?\n",
        "\n",
        "    -> A class can inherit from more than one base class."
      ],
      "metadata": {
        "id": "-2bbz-FPU7f2"
      }
    },
    {
      "cell_type": "markdown",
      "source": [
        "19. Explain the purpose of __str__ and __repr__ methods in Python.\n",
        "\n",
        "__str__: User-friendly string representation (print()).\n",
        "\n",
        "__repr__: Developer-oriented string representation (used in debugging)."
      ],
      "metadata": {
        "id": "luUNpkibVAU6"
      }
    },
    {
      "cell_type": "markdown",
      "source": [
        "20. What is the significance of the super() function in Python?\n",
        "\n",
        "    -> It allows access to methods of a superclass from a subclass, especially useful in method overriding."
      ],
      "metadata": {
        "id": "SUnsd5ZzVFfN"
      }
    },
    {
      "cell_type": "markdown",
      "source": [
        "21. What is the significance of the __del__ method in Python?\n",
        "\n",
        "    -> A destructor method called when an object is about to be destroyed (rarely used due to garbage collection)."
      ],
      "metadata": {
        "id": "aNoBRXr-VMvx"
      }
    },
    {
      "cell_type": "markdown",
      "source": [
        "22. What is the difference between @staticmethod and @classmethod in Python?\n",
        "\n",
        "@staticmethod: No access to class or instance data.\n",
        "\n",
        "@classmethod: Has access to class-level data via cls."
      ],
      "metadata": {
        "id": "9om8MOxRVRtl"
      }
    },
    {
      "cell_type": "markdown",
      "source": [
        "23. How does polymorphism work in Python with inheritance?\n",
        "\n",
        "    -> Methods in the parent class can be overridden in the child class, and function calls are resolved at runtime."
      ],
      "metadata": {
        "id": "Zgu-DLF5VVVv"
      }
    },
    {
      "cell_type": "markdown",
      "source": [
        "24. What is method chaining in Python OOP?\n",
        "\n",
        "    -> Calling multiple methods sequentially on the same object in a single line by returning self."
      ],
      "metadata": {
        "id": "dZkhtgXIVbkj"
      }
    },
    {
      "cell_type": "markdown",
      "source": [
        "25. What is the purpose of the __call__ method in Python?\n",
        "\n",
        "    -> Allows an object to be called like a function.\n",
        "\n"
      ],
      "metadata": {
        "id": "q8GyVrExVgda"
      }
    },
    {
      "cell_type": "markdown",
      "source": [
        "### PRACTICAL QUESTIONS."
      ],
      "metadata": {
        "id": "EF-GOY9VVxCT"
      }
    },
    {
      "cell_type": "code",
      "source": [
        "# 1.  Create a parent class Animal with a method speak() that prints a generic message. Create a child class Dog  Create a parent class Animal with a method speak() that prints a generic message. Create a child class Dog\n",
        "# that overrides the speak() method to print \"Bark!\n",
        "class Animal:\n",
        "    def speak(self):\n",
        "        print(\"This is a generic animal.\")\n",
        "\n",
        "class Dog(Animal):\n",
        "    def speak(self):\n",
        "        print(\"Bark\")\n",
        "\n",
        "d = Dog()\n",
        "d.speak()\n"
      ],
      "metadata": {
        "colab": {
          "base_uri": "https://localhost:8080/"
        },
        "id": "jBmw5g3nV8y3",
        "outputId": "ca3244c0-306e-4ede-f8a0-42c9c7bbc678"
      },
      "execution_count": null,
      "outputs": [
        {
          "output_type": "stream",
          "name": "stdout",
          "text": [
            "Bark\n"
          ]
        }
      ]
    },
    {
      "cell_type": "code",
      "source": [
        "# 2. Write a program to create an abstract class Shape with a method area(). Derive classes Circle and Rectangle\n",
        "# from it and implement the area() method in both.\n",
        "from abc import ABC, abstractmethod\n",
        "\n",
        "class Shape(ABC):\n",
        "    @abstractmethod\n",
        "    def area(self):\n",
        "        pass\n",
        "\n",
        "class Circle(Shape):\n",
        "    def __init__(self, radius):\n",
        "        self.radius = radius\n",
        "\n",
        "    def area(self):\n",
        "        return 3.14 * self.radius ** 2\n",
        "\n",
        "class Rectangle(Shape):\n",
        "    def __init__(self, length, breadth):\n",
        "        self.length = length\n",
        "        self.breadth = breadth\n",
        "\n",
        "    def area(self):\n",
        "        return self.length * self.breadth\n"
      ],
      "metadata": {
        "id": "FHjDWkf_WiJZ"
      },
      "execution_count": null,
      "outputs": []
    },
    {
      "cell_type": "code",
      "source": [
        "# 3. Implement a multi-level inheritance scenario where a class Vehicle has an attribute type. Derive a class Car\n",
        "# and further derive a class ElectricCar that adds a battery attribute.\n",
        "# Base class\n",
        "class Vehicle:\n",
        "    def __init__(self, vehicle_type):\n",
        "        self.vehicle_type = vehicle_type\n",
        "\n",
        "    def display_info(self):\n",
        "        return f\"Vehicle Type: {self.vehicle_type}\"\n",
        "\n",
        "\n",
        "\n",
        "class Car(Vehicle):\n",
        "    def __init__(self, vehicle_type, brand, model):\n",
        "        super().__init__(vehicle_type)\n",
        "        self.brand = brand\n",
        "        self.model = model\n",
        "\n",
        "    def display_info(self):\n",
        "        base_info = super().display_info()\n",
        "        return f\"{base_info}, Brand: {self.brand}, Model: {self.model}\"\n",
        "\n",
        "\n",
        "\n",
        "class ElectricCar(Car):\n",
        "    def __init__(self, vehicle_type, brand, model, battery_capacity):\n",
        "        super().__init__(vehicle_type, brand, model)\n",
        "        self.battery_capacity = battery_capacity\n",
        "\n",
        "    def display_info(self):\n",
        "        car_info = super().display_info()\n",
        "        return f\"{car_info}, Battery Capacity: {self.battery_capacity} kWh\"\n",
        "\n",
        "\n",
        "\n",
        "if __name__ == \"__main__\":\n",
        "     my_vehicle = Vehicle(\"General Vehicle\")\n",
        "print(my_vehicle.display_info())\n",
        "my_car = Car(\"Car\", \"Toyota\", \"Corolla\")\n",
        "my_electric_car = ElectricCar(\"Electric Car\", \"Tesla\", \"Model S\", 100)\n",
        "print(my_electric_car.display_info())"
      ],
      "metadata": {
        "colab": {
          "base_uri": "https://localhost:8080/"
        },
        "id": "9vL911IQXMCa",
        "outputId": "2ef1533c-6057-476c-8bd7-ba33dbb2e111"
      },
      "execution_count": null,
      "outputs": [
        {
          "output_type": "stream",
          "name": "stdout",
          "text": [
            "Vehicle Type: General Vehicle\n",
            "Vehicle Type: Electric Car, Brand: Tesla, Model: Model S, Battery Capacity: 100 kWh\n"
          ]
        }
      ]
    },
    {
      "cell_type": "code",
      "source": [
        "# 4.  Demonstrate polymorphism by creating a base class Bird with a method fly(). Create two derived classes Sparrow and Penguin that override the fly() method.\n",
        "class Bird:\n",
        "    def fly(self):\n",
        "        print(\"Bird can fly\")\n",
        "\n",
        "class Sparrow(Bird):\n",
        "    def fly(self):\n",
        "        print(\"Sparrow flies high\")\n",
        "\n",
        "class Penguin(Bird):\n",
        "    def fly(self):\n",
        "        print(\"Penguin can't fly\")\n",
        "\n",
        "for bird in [Sparrow(), Penguin()]:\n",
        "    bird.fly()\n"
      ],
      "metadata": {
        "colab": {
          "base_uri": "https://localhost:8080/"
        },
        "id": "LNns5NELYZ0o",
        "outputId": "cb392cdc-7d85-4a75-c6c3-f54cd1e1e18c"
      },
      "execution_count": null,
      "outputs": [
        {
          "output_type": "stream",
          "name": "stdout",
          "text": [
            "Sparrow flies high\n",
            "Penguin can't fly\n"
          ]
        }
      ]
    },
    {
      "cell_type": "code",
      "source": [
        "# 5.  Write a program to demonstrate encapsulation by creating a class BankAccount with private attributes balance and methods to deposit, withdraw, and check balance.\n",
        "class BankAccount:\n",
        "    def __init__(self):\n",
        "\n",
        "        self.__balance = 0.0\n",
        "\n",
        "    def deposit(self, amount):\n",
        "        \"\"\"Deposit money into the account.\"\"\"\n",
        "        if amount > 0:\n",
        "            self.__balance += amount\n",
        "            print(f\"Deposited: ${amount:.2f}\")\n",
        "        else:\n",
        "            print(\"Deposit amount must be positive.\")\n",
        "\n",
        "    def withdraw(self, amount):\n",
        "        \"\"\"Withdraw money from the account.\"\"\"\n",
        "        if amount > 0:\n",
        "            if amount <= self.__balance:\n",
        "                self.__balance -= amount\n",
        "                print(f\"Withdrew: ${amount:.2f}\")\n",
        "            else:\n",
        "                print(\"Insufficient funds.\")\n",
        "        else:\n",
        "            print(\"Withdrawal amount must be positive.\")\n",
        "\n",
        "    def check_balance(self):\n",
        "        \"\"\"Check the current balance.\"\"\"\n",
        "        print(f\"Current balance: ${self.__balance:.2f}\")\n",
        "\n",
        "# Example usage\n",
        "if __name__ == \"__main__\":\n",
        "    account = BankAccount()\n",
        "\n",
        "    account.deposit(100.0)\n",
        "    account.check_balance()\n",
        "\n",
        "    account.withdraw(30.0)\n",
        "    account.check_balance()\n",
        "\n",
        "    account.withdraw(80.0)\n",
        "    account.check_balance()"
      ],
      "metadata": {
        "colab": {
          "base_uri": "https://localhost:8080/"
        },
        "id": "xvq7vD8RYqG1",
        "outputId": "7f3a2ba4-b161-4f7c-ec2f-6b45cbedd563"
      },
      "execution_count": null,
      "outputs": [
        {
          "output_type": "stream",
          "name": "stdout",
          "text": [
            "Deposited: $100.00\n",
            "Current balance: $100.00\n",
            "Withdrew: $30.00\n",
            "Current balance: $70.00\n",
            "Insufficient funds.\n",
            "Current balance: $70.00\n"
          ]
        }
      ]
    },
    {
      "cell_type": "code",
      "source": [
        "# 6.  Demonstrate runtime polymorphism using a method play() in a base class Instrument. Derive classes Guitar and Piano that implement their own version of play().\n",
        "class Instrument:\n",
        "    def play(self):\n",
        "        \"\"\"Base method to be overridden in derived classes.\"\"\"\n",
        "        raise NotImplementedError(\"Subclasses must implement this method.\")\n",
        "\n",
        "class Guitar(Instrument):\n",
        "    def play(self):\n",
        "        \"\"\"Override the play method for Guitar.\"\"\"\n",
        "        return \"Strumming the guitar!\"\n",
        "\n",
        "class Piano(Instrument):\n",
        "    def play(self):\n",
        "        \"\"\"Override the play method for Piano.\"\"\"\n",
        "        return \"Playing the piano!\"\n",
        "\n",
        "\n",
        "def perform(instrument):\n",
        "    print(instrument.play())\n",
        "\n",
        "# Example usage\n",
        "if __name__ == \"__main__\":\n",
        "\n",
        "    my_guitar = Guitar()\n",
        "    my_piano = Piano()\n",
        "\n",
        "\n",
        "    perform(my_guitar)\n",
        "    perform(my_piano)"
      ],
      "metadata": {
        "colab": {
          "base_uri": "https://localhost:8080/"
        },
        "id": "xInJUshjZXek",
        "outputId": "b341cae5-824d-4a0e-ca0a-e243095fb880"
      },
      "execution_count": null,
      "outputs": [
        {
          "output_type": "stream",
          "name": "stdout",
          "text": [
            "Strumming the guitar!\n",
            "Playing the piano!\n"
          ]
        }
      ]
    },
    {
      "cell_type": "code",
      "source": [
        "# 7. Create a class MathOperations with a class method add_numbers() to add two numbers and a static method subtract_numbers() to subtract two numbers.\n",
        "\n",
        "class MathOperations:\n",
        "    @classmethod\n",
        "    def add_numbers(cls, a, b):\n",
        "        \"\"\"Class method to add two numbers.\"\"\"\n",
        "        return a + b\n",
        "\n",
        "    @staticmethod\n",
        "    def subtract_numbers(a, b):\n",
        "        \"\"\"Static method to subtract two numbers.\"\"\"\n",
        "        return a - b\n",
        "if __name__ == \"__main__\":\n",
        "    sum_result = MathOperations.add_numbers(5, 3)\n",
        "    print(f\"Sum: {sum_result}\")\n",
        "\n",
        "    difference_result = MathOperations.subtract_numbers(5, 3)\n",
        "    print(f\"Difference: {difference_result}\")"
      ],
      "metadata": {
        "id": "0YXdZ3cxaFkI",
        "colab": {
          "base_uri": "https://localhost:8080/"
        },
        "outputId": "c26b39a7-4cec-46e8-8b51-3e9f42c2e13e"
      },
      "execution_count": 3,
      "outputs": [
        {
          "output_type": "stream",
          "name": "stdout",
          "text": [
            "Sum: 8\n",
            "Difference: 2\n"
          ]
        }
      ]
    },
    {
      "cell_type": "code",
      "source": [
        "# 8.  Implement a class Person with a class method to count the total number of persons created.\n",
        "class Person:\n",
        "\n",
        "    total_persons = 0\n",
        "\n",
        "    def __init__(self, name, age):\n",
        "        \"\"\"Initialize a new Person instance.\"\"\"\n",
        "        self.name = name\n",
        "        self.age = age\n",
        "\n",
        "        Person.total_persons += 1\n",
        "\n",
        "    @classmethod\n",
        "    def count_persons(cls):\n",
        "        \"\"\"Class method to return the total number of Person instances created.\"\"\"\n",
        "        return cls.total_persons\n",
        "\n",
        "\n",
        "if __name__ == \"__main__\":\n",
        "    person1 = Person(\"Alice\", 30)\n",
        "    person2 = Person(\"Bob\", 25)\n",
        "\n",
        "    print(f\"Total persons created: {Person.count_persons()}\")\n",
        "\n",
        "    person3 = Person(\"Charlie\", 22)\n",
        "    print(f\"Total persons created: {Person.count_persons()}\")"
      ],
      "metadata": {
        "colab": {
          "base_uri": "https://localhost:8080/"
        },
        "id": "8RRdh2Ksvdq7",
        "outputId": "a7f2d2c6-027c-443f-afd3-3fd2ae66c189"
      },
      "execution_count": 4,
      "outputs": [
        {
          "output_type": "stream",
          "name": "stdout",
          "text": [
            "Total persons created: 2\n",
            "Total persons created: 3\n"
          ]
        }
      ]
    },
    {
      "cell_type": "code",
      "source": [
        "# 9.  Write a class Fraction with attributes numerator and denominator. Override the str method to display the fraction as \"numerator/denominator\".\n",
        "class Fraction:\n",
        "    def __init__(self, numerator, denominator):\n",
        "        \"\"\"Initialize a new Fraction instance.\"\"\"\n",
        "        if denominator == 0:\n",
        "            raise ValueError(\"Denominator cannot be zero.\")\n",
        "        self.numerator = numerator\n",
        "        self.denominator = denominator\n",
        "\n",
        "    def __str__(self):\n",
        "        \"\"\"Return the string representation of the fraction.\"\"\"\n",
        "        return f\"{self.numerator}/{self.denominator}\"\n",
        "if __name__ == \"__main__\":\n",
        "    fraction1 = Fraction(3, 4)\n",
        "    print(f\"Fraction: {fraction1}\")\n",
        "\n",
        "    fraction2 = Fraction(5, 2)\n",
        "    print(f\"Fraction: {fraction2}\")"
      ],
      "metadata": {
        "colab": {
          "base_uri": "https://localhost:8080/"
        },
        "id": "tSZR9s0Bv5CU",
        "outputId": "e3d6ccc2-caf4-4c29-fac8-64447396b999"
      },
      "execution_count": 5,
      "outputs": [
        {
          "output_type": "stream",
          "name": "stdout",
          "text": [
            "Fraction: 3/4\n",
            "Fraction: 5/2\n"
          ]
        }
      ]
    },
    {
      "cell_type": "code",
      "source": [
        "# 10. . Demonstrate operator overloading by creating a class Vector and overriding the add method to add two vectors.\n",
        "class Vector:\n",
        "    def __init__(self, x, y):\n",
        "        \"\"\"Initialize a new Vector instance with x and y components.\"\"\"\n",
        "        self.x = x\n",
        "        self.y = y\n",
        "\n",
        "    def __add__(self, other):\n",
        "        \"\"\"Override the + operator to add two vectors.\"\"\"\n",
        "        if isinstance(other, Vector):\n",
        "            return Vector(self.x + other.x, self.y + other.y)\n",
        "        return NotImplemented\n",
        "\n",
        "    def __str__(self):\n",
        "        \"\"\"Return the string representation of the vector.\"\"\"\n",
        "        return f\"({self.x}, {self.y})\"\n",
        "if __name__ == \"__main__\":\n",
        "    vector1 = Vector(2, 3)\n",
        "    vector2 = Vector(4, 5)\n",
        "    result_vector = vector1 + vector2\n",
        "    print(f\"Vector 1: {vector1}\")\n",
        "    print(f\"Vector 2: {vector2}\")\n",
        "    print(f\"Resultant Vector: {result_vector}\")"
      ],
      "metadata": {
        "colab": {
          "base_uri": "https://localhost:8080/"
        },
        "id": "zf-83Q55wQ1b",
        "outputId": "2572f4df-bb6f-43c0-ea2b-18cf0e6b55f0"
      },
      "execution_count": 6,
      "outputs": [
        {
          "output_type": "stream",
          "name": "stdout",
          "text": [
            "Vector 1: (2, 3)\n",
            "Vector 2: (4, 5)\n",
            "Resultant Vector: (6, 8)\n"
          ]
        }
      ]
    },
    {
      "cell_type": "code",
      "source": [
        "# 11. Create a class Person with attributes name and age. Add a method greet() that prints \"Hello, my name is {name} and I am {age} years old.\"\n",
        "class Person:\n",
        "    def __init__(self, name, age):\n",
        "        self.name = name\n",
        "        self.age = age\n",
        "\n",
        "    def greet(self):\n",
        "        print(f\"Hello, my name is {self.name} and I am {self.age} years old.\")\n",
        "\n",
        "person1 = Person(\"Kirti\", 19)\n",
        "person1.greet()"
      ],
      "metadata": {
        "colab": {
          "base_uri": "https://localhost:8080/"
        },
        "id": "XtCXUgIewlaE",
        "outputId": "a244196d-91c1-4812-e908-759f2d6dc912"
      },
      "execution_count": 7,
      "outputs": [
        {
          "output_type": "stream",
          "name": "stdout",
          "text": [
            "Hello, my name is Kirti and I am 19 years old.\n"
          ]
        }
      ]
    },
    {
      "cell_type": "code",
      "source": [
        "# 12.  Implement a class Student with attributes name and grades. Create a method average_grade() to compute the average of the grades.\n",
        "class Student:\n",
        "    def __init__(self, name, grades):\n",
        "        self.name = name\n",
        "        self.grades = grades\n",
        "\n",
        "    def average_grade(self):\n",
        "        if not self.grades:\n",
        "            return 0\n",
        "        return sum(self.grades) / len(self.grades)\n",
        "\n",
        "\n",
        "student1 = Student(\"Bob\", [85, 90, 78, 92])\n",
        "print(f\"{student1.name}'s average grade is: {student1.average_grade()}\")"
      ],
      "metadata": {
        "colab": {
          "base_uri": "https://localhost:8080/"
        },
        "id": "dWmaxnNGxGnY",
        "outputId": "945ff862-7f6d-40f7-e1ef-ebcf8b8f1f6d"
      },
      "execution_count": 8,
      "outputs": [
        {
          "output_type": "stream",
          "name": "stdout",
          "text": [
            "Bob's average grade is: 86.25\n"
          ]
        }
      ]
    },
    {
      "cell_type": "code",
      "source": [
        "# 13.  Create a class Rectangle with methods set_dimensions() to set the dimensions and area() to calculate the area.\n",
        "class Rectangle:\n",
        "    def __init__(self):\n",
        "        self.width = 0\n",
        "        self.height = 0\n",
        "\n",
        "    def set_dimensions(self, width, height):\n",
        "        \"\"\"Set the dimensions of the rectangle.\"\"\"\n",
        "        self.width = width\n",
        "        self.height = height\n",
        "\n",
        "    def area(self):\n",
        "        \"\"\"Calculate the area of the rectangle.\"\"\"\n",
        "        return self.width * self.height\n",
        "\n",
        "if __name__ == \"__main__\":\n",
        "    rect = Rectangle()\n",
        "    rect.set_dimensions(5, 10)\n",
        "    print(\"Area of the rectangle:\", rect.area())"
      ],
      "metadata": {
        "colab": {
          "base_uri": "https://localhost:8080/"
        },
        "id": "v1Jluljixl0I",
        "outputId": "3adcdbad-5a2e-4709-98af-0394b4f2632a"
      },
      "execution_count": 9,
      "outputs": [
        {
          "output_type": "stream",
          "name": "stdout",
          "text": [
            "Area of the rectangle: 50\n"
          ]
        }
      ]
    },
    {
      "cell_type": "code",
      "source": [
        "# 14.  Create a class Employee with a method calculate_salary() that computes the salary based on hours worked and hourly rate. Create a derived class Manager that adds a bonus to the salary.\n",
        "class Employee:\n",
        "    def __init__(self, name, hours_worked, hourly_rate):\n",
        "        self.name = name\n",
        "        self.hours_worked = hours_worked\n",
        "        self.hourly_rate = hourly_rate\n",
        "\n",
        "    def calculate_salary(self):\n",
        "        return self.hours_worked * self.hourly_rate\n",
        "\n",
        "\n",
        "class Manager(Employee):\n",
        "    def __init__(self, name, hours_worked, hourly_rate, bonus):\n",
        "        super().__init__(name, hours_worked, hourly_rate)\n",
        "        self.bonus = bonus\n",
        "\n",
        "    def calculate_salary(self):\n",
        "        base_salary = super().calculate_salary()\n",
        "        return base_salary + self.bonus\n",
        "\n",
        "\n",
        "\n",
        "if __name__ == \"__main__\":\n",
        "    employee = Employee(\"John Doe\", 40, 20)\n",
        "    print(f\"Employee Salary: ${employee.calculate_salary()}\")\n",
        "\n",
        "    manager = Manager(\"Jane Smith\", 40, 30, 500)\n",
        "    print(f\"Manager Salary: ${manager.calculate_salary()}\")"
      ],
      "metadata": {
        "colab": {
          "base_uri": "https://localhost:8080/"
        },
        "id": "IK8ujxXPx3HV",
        "outputId": "02696cb8-16b5-46b4-9161-b3654a1d46d4"
      },
      "execution_count": 10,
      "outputs": [
        {
          "output_type": "stream",
          "name": "stdout",
          "text": [
            "Employee Salary: $800\n",
            "Manager Salary: $1700\n"
          ]
        }
      ]
    },
    {
      "cell_type": "code",
      "source": [
        "# 15.  Create a class Product with attributes name, price, and quantity. Implement a method total_price() that calculates the total price of the product.\n",
        "class Product:\n",
        "    def __init__(self, name, price, quantity):\n",
        "        self.name = name\n",
        "        self.price = price\n",
        "        self.quantity = quantity\n",
        "\n",
        "    def total_price(self):\n",
        "        return self.price * self.quantity\n",
        "\n",
        "product1 = Product(\"Laptop\", 75000, 2)\n",
        "print(f\"Total price of {product1.name}s: ₹{product1.total_price()}\")"
      ],
      "metadata": {
        "colab": {
          "base_uri": "https://localhost:8080/"
        },
        "id": "QG4NSJ5DyZX1",
        "outputId": "b0b76979-149a-4f97-d706-2f13e36693d6"
      },
      "execution_count": 11,
      "outputs": [
        {
          "output_type": "stream",
          "name": "stdout",
          "text": [
            "Total price of Laptops: ₹150000\n"
          ]
        }
      ]
    },
    {
      "cell_type": "code",
      "source": [
        "# 16.  Create a class Animal with an abstract method sound(). Create two derived classes Cow and Sheep that implement the sound() method.\n",
        "from abc import ABC, abstractmethod\n",
        "class Animal(ABC):\n",
        "    @abstractmethod\n",
        "    def sound(self):\n",
        "        pass\n",
        "\n",
        "class Cow(Animal):\n",
        "    def sound(self):\n",
        "        return \"Moo\"\n",
        "\n",
        "class Sheep(Animal):\n",
        "    def sound(self):\n",
        "        return \"Baa\"\n",
        "cow = Cow()\n",
        "sheep = Sheep()\n",
        "\n",
        "print(\"Cow sound:\", cow.sound())\n",
        "print(\"Sheep sound:\", sheep.sound())\n"
      ],
      "metadata": {
        "colab": {
          "base_uri": "https://localhost:8080/"
        },
        "id": "oY70YsXGyu0y",
        "outputId": "c7932fa7-9794-407c-bd6f-ffae64e7b96c"
      },
      "execution_count": 12,
      "outputs": [
        {
          "output_type": "stream",
          "name": "stdout",
          "text": [
            "Cow sound: Moo\n",
            "Sheep sound: Baa\n"
          ]
        }
      ]
    },
    {
      "cell_type": "code",
      "source": [
        "# 17.  Create a class Book with attributes title, author, and year_published. Add a method get_book_info() that returns a formatted string with the book's details.\n",
        "class Book:\n",
        "    def __init__(self, title, author, year_published):\n",
        "        self.title = title\n",
        "        self.author = author\n",
        "        self.year_published = year_published\n",
        "\n",
        "    def get_book_info(self):\n",
        "        return f\"'{self.title}' by {self.author}, published in {self.year_published}\"\n",
        "\n",
        "\n",
        "book1 = Book(\"To Kill a Mockingbird\", \"Harper Lee\", 1960)\n",
        "print(book1.get_book_info())\n"
      ],
      "metadata": {
        "colab": {
          "base_uri": "https://localhost:8080/"
        },
        "id": "KV28kPtCzBhr",
        "outputId": "ef3795fb-664d-4e2b-dd9e-1c04d6eb68a6"
      },
      "execution_count": 13,
      "outputs": [
        {
          "output_type": "stream",
          "name": "stdout",
          "text": [
            "'To Kill a Mockingbird' by Harper Lee, published in 1960\n"
          ]
        }
      ]
    },
    {
      "cell_type": "code",
      "source": [
        "# 18.  Create a class House with attributes address and price. Create a derived class Mansion that adds an attribute number_of_rooms.\n",
        "\n",
        "class House:\n",
        "    def __init__(self, address, price):\n",
        "        self.address = address\n",
        "        self.price = price\n",
        "\n",
        "class Mansion(House):\n",
        "    def __init__(self, address, price, number_of_rooms):\n",
        "        super().__init__(address, price)\n",
        "        self.number_of_rooms = number_of_rooms\n",
        "\n",
        "mansion1 = Mansion(\"123 Elite Avenue, Beverly Hills\", 50000000, 15)\n",
        "print(f\"Mansion Address: {mansion1.address}\")\n",
        "print(f\"Price: ₹{mansion1.price}\")\n",
        "print(f\"Number of Rooms: {mansion1.number_of_rooms}\")\n"
      ],
      "metadata": {
        "colab": {
          "base_uri": "https://localhost:8080/"
        },
        "id": "p4wr-2ANzley",
        "outputId": "ededeb0a-021d-44ea-bc28-fe77730275dd"
      },
      "execution_count": 14,
      "outputs": [
        {
          "output_type": "stream",
          "name": "stdout",
          "text": [
            "Mansion Address: 123 Elite Avenue, Beverly Hills\n",
            "Price: ₹50000000\n",
            "Number of Rooms: 15\n"
          ]
        }
      ]
    }
  ]
}